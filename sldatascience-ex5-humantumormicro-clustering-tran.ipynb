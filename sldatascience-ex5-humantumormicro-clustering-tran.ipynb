{
 "cells": [
  {
   "cell_type": "code",
   "execution_count": 1,
   "id": "60f67fbf",
   "metadata": {
    "_cell_guid": "b1076dfc-b9ad-4769-8c92-a6c4dae69d19",
    "_uuid": "8f2839f25d086af736a60e9eeb907d3b93b6e0e5",
    "execution": {
     "iopub.execute_input": "2023-05-24T12:28:05.651496Z",
     "iopub.status.busy": "2023-05-24T12:28:05.651108Z",
     "iopub.status.idle": "2023-05-24T12:28:05.675017Z",
     "shell.execute_reply": "2023-05-24T12:28:05.672898Z"
    },
    "papermill": {
     "duration": 0.037983,
     "end_time": "2023-05-24T12:28:05.678399",
     "exception": false,
     "start_time": "2023-05-24T12:28:05.640416",
     "status": "completed"
    },
    "tags": []
   },
   "outputs": [
    {
     "name": "stdout",
     "output_type": "stream",
     "text": [
      "/kaggle/input/14cancermicroarraydata/14cancer_y.ytrain\n",
      "/kaggle/input/14cancermicroarraydata/14cancer.info\n",
      "/kaggle/input/14cancermicroarraydata/14cancer_x.xtrain\n"
     ]
    }
   ],
   "source": [
    "# This Python 3 environment comes with many helpful analytics libraries installed\n",
    "# It is defined by the kaggle/python Docker image: https://github.com/kaggle/docker-python\n",
    "# For example, here's several helpful packages to load\n",
    "\n",
    "import numpy as np # linear algebra\n",
    "import pandas as pd # data processing, CSV file I/O (e.g. pd.read_csv)\n",
    "\n",
    "# Input data files are available in the read-only \"../input/\" directory\n",
    "# For example, running this (by clicking run or pressing Shift+Enter) will list all files under the input directory\n",
    "\n",
    "import os\n",
    "for dirname, _, filenames in os.walk('/kaggle/input'):\n",
    "    for filename in filenames:\n",
    "        print(os.path.join(dirname, filename))\n",
    "\n",
    "# You can write up to 20GB to the current directory (/kaggle/working/) that gets preserved as output when you create a version using \"Save & Run All\" \n",
    "# You can also write temporary files to /kaggle/temp/, but they won't be saved outside of the current session"
   ]
  },
  {
   "cell_type": "markdown",
   "id": "d3d39d53",
   "metadata": {
    "papermill": {
     "duration": 0.008058,
     "end_time": "2023-05-24T12:28:05.694984",
     "exception": false,
     "start_time": "2023-05-24T12:28:05.686926",
     "status": "completed"
    },
    "tags": []
   },
   "source": [
    "# **Statistical Learning – Data science - 2022/23 – Exercise 6 – 18/05/2023**"
   ]
  },
  {
   "cell_type": "markdown",
   "id": "cace3f82",
   "metadata": {
    "papermill": {
     "duration": 0.007996,
     "end_time": "2023-05-24T12:28:05.710289",
     "exception": false,
     "start_time": "2023-05-24T12:28:05.702293",
     "status": "completed"
    },
    "tags": []
   },
   "source": [
    "\n",
    "**Excersice 6: Analysis of Human Tumor Microarray dataset – unsupervised learning, clustering with k-means** \\\n",
    "Please, execute the following tasks and provide answers to the proposed questions."
   ]
  },
  {
   "cell_type": "markdown",
   "id": "97e3417f",
   "metadata": {
    "papermill": {
     "duration": 0.007978,
     "end_time": "2023-05-24T12:28:05.725407",
     "exception": false,
     "start_time": "2023-05-24T12:28:05.717429",
     "status": "completed"
    },
    "tags": []
   },
   "source": [
    "* [Appendix](#exercise6)\n",
    "    * [Part 1: Discover and Prepare dataset](#section1)\n",
    "    * [Part 2: Cluster analysis](#section2)\n",
    "        * [Prepocess data ](#subsection1)\n",
    "        * [Start using K-means and then test some other clustering algorithms at your choice](#subsection2)"
   ]
  },
  {
   "cell_type": "markdown",
   "id": "629eb7ce",
   "metadata": {
    "papermill": {
     "duration": 0.006009,
     "end_time": "2023-05-24T12:28:05.738086",
     "exception": false,
     "start_time": "2023-05-24T12:28:05.732077",
     "status": "completed"
    },
    "tags": []
   },
   "source": [
    " ## Part 1: Discover and Prepare dataset <a class=\"anchor\"  id=\"section1\"></a>"
   ]
  },
  {
   "cell_type": "markdown",
   "id": "da6e67cc",
   "metadata": {
    "papermill": {
     "duration": 0.005994,
     "end_time": "2023-05-24T12:28:05.750313",
     "exception": false,
     "start_time": "2023-05-24T12:28:05.744319",
     "status": "completed"
    },
    "tags": []
   },
   "source": [
    "1. Download the “14-cancer microarray data” from the book website https://web.stanford.edu/~hastie/ElemStatLearn/\n",
    "Get information about the dataset in file 14cancer.info and in Chapter 1 (page 5) and\n",
    "Chapter 14 (page 512) of the book (Hastie et al., 2009)\n",
    "2. Generate a new Kernel SLDatascience_EX5_HumanTumorMicro_Clustering_Surname in Kaggle\n",
    "3. Load the data in Kaggle \\\n",
    "• Use, for instance, the training set gene expression data \\\n",
    "• Load also the labels"
   ]
  },
  {
   "cell_type": "markdown",
   "id": "abd620b3",
   "metadata": {
    "papermill": {
     "duration": 0.006099,
     "end_time": "2023-05-24T12:28:05.762675",
     "exception": false,
     "start_time": "2023-05-24T12:28:05.756576",
     "status": "completed"
    },
    "tags": []
   },
   "source": [
    "**Introduction about DNA Expression Microarrays:**\n",
    "- DNA is the basic material that makes up human chromosomes. \n",
    "- How a DNA microarray works?\n",
    "\n",
    "The nucleotide sequences for a few thousand genes are printed on a glass slide. A target sample and a reference sample are labeled with red and green dyes, and each are hybridized with the DNA on the slide.\n",
    "\n",
    "Through fluoroscopy, the log (red/green) intensities of RNA hybridizing at each site is measured. The result is a few thousand numbers, typically ranging from say −6 to 6, measuring the expression level of each gene in the target relative to the reference sample. Positive values indicate higher expression in the target versus the reference, and vice versa for negative values.\n"
   ]
  },
  {
   "cell_type": "markdown",
   "id": "b94ea54e",
   "metadata": {
    "execution": {
     "iopub.execute_input": "2023-05-22T19:54:07.874092Z",
     "iopub.status.busy": "2023-05-22T19:54:07.873655Z",
     "iopub.status.idle": "2023-05-22T19:54:07.884550Z",
     "shell.execute_reply": "2023-05-22T19:54:07.882987Z",
     "shell.execute_reply.started": "2023-05-22T19:54:07.874060Z"
    },
    "papermill": {
     "duration": 0.006194,
     "end_time": "2023-05-24T12:28:05.775153",
     "exception": false,
     "start_time": "2023-05-24T12:28:05.768959",
     "status": "completed"
    },
    "tags": []
   },
   "source": [
    "**Information about the dataset in file 14cancer.info**:\\\n",
    "A gene expression dataset collects together the expression values from a series of DNA microarray experiments, with each column representing an experiment. \n",
    "\n",
    "14-cancer gene expression data including: 16,063 genes, 144 training samples, 54 test samples. \n",
    "One gene per row, one sample per column\n",
    "Cancer classes are labelled as follows:\n",
    "1.  breast\n",
    "2.  prostate\n",
    "3.  lung\n",
    "4.  collerectal\n",
    "5.  lymphoma\n",
    "6.  bladder\n",
    "7.  melanoma\n",
    "8.  uterus\n",
    "9.  leukemia\n",
    "10. renal\n",
    "11. pancreas\n",
    "12. ovary\n",
    "13. meso\n",
    "14. cns\n",
    "\n",
    "**The challenge here is to understand how the genes and samples are organized. Typical questions include the following:**\n",
    "1. which samples are most similar to each other, in terms of their expression profiles across genes?\n",
    "2.  which genes are most similar to each other, in terms of their expression profiles across samples?\n",
    "3.  do certain genes show very high (or low) expression for certain cancer samples?\n",
    "\n"
   ]
  },
  {
   "cell_type": "code",
   "execution_count": 2,
   "id": "a0a0a3c8",
   "metadata": {
    "execution": {
     "iopub.execute_input": "2023-05-24T12:28:05.789489Z",
     "iopub.status.busy": "2023-05-24T12:28:05.789117Z",
     "iopub.status.idle": "2023-05-24T12:28:06.487015Z",
     "shell.execute_reply": "2023-05-24T12:28:06.485970Z"
    },
    "papermill": {
     "duration": 0.708688,
     "end_time": "2023-05-24T12:28:06.490137",
     "exception": false,
     "start_time": "2023-05-24T12:28:05.781449",
     "status": "completed"
    },
    "tags": []
   },
   "outputs": [],
   "source": [
    "# Read the trainning dataset\n",
    "x_train = pd.read_csv('/kaggle/input/14cancermicroarraydata/14cancer_x.xtrain',header=None,delim_whitespace= True)\n",
    "y_train = pd.read_csv('/kaggle/input/14cancermicroarraydata/14cancer_y.ytrain',header=None,delim_whitespace= True)"
   ]
  },
  {
   "cell_type": "code",
   "execution_count": 3,
   "id": "d524696d",
   "metadata": {
    "execution": {
     "iopub.execute_input": "2023-05-24T12:28:06.505717Z",
     "iopub.status.busy": "2023-05-24T12:28:06.505286Z",
     "iopub.status.idle": "2023-05-24T12:28:06.546696Z",
     "shell.execute_reply": "2023-05-24T12:28:06.545589Z"
    },
    "papermill": {
     "duration": 0.052216,
     "end_time": "2023-05-24T12:28:06.549102",
     "exception": false,
     "start_time": "2023-05-24T12:28:06.496886",
     "status": "completed"
    },
    "tags": []
   },
   "outputs": [
    {
     "data": {
      "text/html": [
       "<div>\n",
       "<style scoped>\n",
       "    .dataframe tbody tr th:only-of-type {\n",
       "        vertical-align: middle;\n",
       "    }\n",
       "\n",
       "    .dataframe tbody tr th {\n",
       "        vertical-align: top;\n",
       "    }\n",
       "\n",
       "    .dataframe thead th {\n",
       "        text-align: right;\n",
       "    }\n",
       "</style>\n",
       "<table border=\"1\" class=\"dataframe\">\n",
       "  <thead>\n",
       "    <tr style=\"text-align: right;\">\n",
       "      <th></th>\n",
       "      <th>0</th>\n",
       "      <th>1</th>\n",
       "      <th>2</th>\n",
       "      <th>3</th>\n",
       "      <th>4</th>\n",
       "      <th>5</th>\n",
       "      <th>6</th>\n",
       "      <th>7</th>\n",
       "      <th>8</th>\n",
       "      <th>9</th>\n",
       "      <th>...</th>\n",
       "      <th>134</th>\n",
       "      <th>135</th>\n",
       "      <th>136</th>\n",
       "      <th>137</th>\n",
       "      <th>138</th>\n",
       "      <th>139</th>\n",
       "      <th>140</th>\n",
       "      <th>141</th>\n",
       "      <th>142</th>\n",
       "      <th>143</th>\n",
       "    </tr>\n",
       "  </thead>\n",
       "  <tbody>\n",
       "    <tr>\n",
       "      <th>0</th>\n",
       "      <td>-73</td>\n",
       "      <td>-16</td>\n",
       "      <td>4</td>\n",
       "      <td>-31</td>\n",
       "      <td>-33</td>\n",
       "      <td>-37</td>\n",
       "      <td>-18</td>\n",
       "      <td>-26</td>\n",
       "      <td>-40</td>\n",
       "      <td>22</td>\n",
       "      <td>...</td>\n",
       "      <td>274</td>\n",
       "      <td>-96</td>\n",
       "      <td>-96</td>\n",
       "      <td>-124</td>\n",
       "      <td>-201</td>\n",
       "      <td>-196</td>\n",
       "      <td>34</td>\n",
       "      <td>-56</td>\n",
       "      <td>-245</td>\n",
       "      <td>-26</td>\n",
       "    </tr>\n",
       "    <tr>\n",
       "      <th>1</th>\n",
       "      <td>-69</td>\n",
       "      <td>-63</td>\n",
       "      <td>-45</td>\n",
       "      <td>-110</td>\n",
       "      <td>-39</td>\n",
       "      <td>-90</td>\n",
       "      <td>28</td>\n",
       "      <td>-23</td>\n",
       "      <td>-264</td>\n",
       "      <td>-14</td>\n",
       "      <td>...</td>\n",
       "      <td>-915</td>\n",
       "      <td>-221</td>\n",
       "      <td>-458</td>\n",
       "      <td>-664</td>\n",
       "      <td>-259</td>\n",
       "      <td>-369</td>\n",
       "      <td>-81</td>\n",
       "      <td>-818</td>\n",
       "      <td>-235</td>\n",
       "      <td>-1595</td>\n",
       "    </tr>\n",
       "    <tr>\n",
       "      <th>2</th>\n",
       "      <td>-48</td>\n",
       "      <td>-97</td>\n",
       "      <td>-112</td>\n",
       "      <td>-20</td>\n",
       "      <td>-45</td>\n",
       "      <td>-75</td>\n",
       "      <td>10</td>\n",
       "      <td>2</td>\n",
       "      <td>-335</td>\n",
       "      <td>-21</td>\n",
       "      <td>...</td>\n",
       "      <td>-303</td>\n",
       "      <td>-119</td>\n",
       "      <td>-134</td>\n",
       "      <td>-361</td>\n",
       "      <td>22</td>\n",
       "      <td>-263</td>\n",
       "      <td>-146</td>\n",
       "      <td>-1338</td>\n",
       "      <td>-127</td>\n",
       "      <td>-2085</td>\n",
       "    </tr>\n",
       "    <tr>\n",
       "      <th>3</th>\n",
       "      <td>13</td>\n",
       "      <td>-42</td>\n",
       "      <td>-25</td>\n",
       "      <td>-50</td>\n",
       "      <td>14</td>\n",
       "      <td>-46</td>\n",
       "      <td>30</td>\n",
       "      <td>34</td>\n",
       "      <td>18</td>\n",
       "      <td>26</td>\n",
       "      <td>...</td>\n",
       "      <td>29</td>\n",
       "      <td>243</td>\n",
       "      <td>109</td>\n",
       "      <td>21</td>\n",
       "      <td>140</td>\n",
       "      <td>162</td>\n",
       "      <td>-151</td>\n",
       "      <td>-57</td>\n",
       "      <td>197</td>\n",
       "      <td>-334</td>\n",
       "    </tr>\n",
       "    <tr>\n",
       "      <th>4</th>\n",
       "      <td>-86</td>\n",
       "      <td>-91</td>\n",
       "      <td>-85</td>\n",
       "      <td>-115</td>\n",
       "      <td>-56</td>\n",
       "      <td>-45</td>\n",
       "      <td>-56</td>\n",
       "      <td>-54</td>\n",
       "      <td>-163</td>\n",
       "      <td>-42</td>\n",
       "      <td>...</td>\n",
       "      <td>-171</td>\n",
       "      <td>-224</td>\n",
       "      <td>-630</td>\n",
       "      <td>-519</td>\n",
       "      <td>-277</td>\n",
       "      <td>-277</td>\n",
       "      <td>-174</td>\n",
       "      <td>-989</td>\n",
       "      <td>-562</td>\n",
       "      <td>-455</td>\n",
       "    </tr>\n",
       "  </tbody>\n",
       "</table>\n",
       "<p>5 rows × 144 columns</p>\n",
       "</div>"
      ],
      "text/plain": [
       "   0    1    2    3    4    5    6    7    8    9    ...  134  135  136  137  \\\n",
       "0  -73  -16    4  -31  -33  -37  -18  -26  -40   22  ...  274  -96  -96 -124   \n",
       "1  -69  -63  -45 -110  -39  -90   28  -23 -264  -14  ... -915 -221 -458 -664   \n",
       "2  -48  -97 -112  -20  -45  -75   10    2 -335  -21  ... -303 -119 -134 -361   \n",
       "3   13  -42  -25  -50   14  -46   30   34   18   26  ...   29  243  109   21   \n",
       "4  -86  -91  -85 -115  -56  -45  -56  -54 -163  -42  ... -171 -224 -630 -519   \n",
       "\n",
       "   138  139  140   141  142   143  \n",
       "0 -201 -196   34   -56 -245   -26  \n",
       "1 -259 -369  -81  -818 -235 -1595  \n",
       "2   22 -263 -146 -1338 -127 -2085  \n",
       "3  140  162 -151   -57  197  -334  \n",
       "4 -277 -277 -174  -989 -562  -455  \n",
       "\n",
       "[5 rows x 144 columns]"
      ]
     },
     "execution_count": 3,
     "metadata": {},
     "output_type": "execute_result"
    }
   ],
   "source": [
    "x_train.head()"
   ]
  },
  {
   "cell_type": "code",
   "execution_count": 4,
   "id": "07ea2f07",
   "metadata": {
    "execution": {
     "iopub.execute_input": "2023-05-24T12:28:06.564722Z",
     "iopub.status.busy": "2023-05-24T12:28:06.564330Z",
     "iopub.status.idle": "2023-05-24T12:28:06.581076Z",
     "shell.execute_reply": "2023-05-24T12:28:06.580039Z"
    },
    "papermill": {
     "duration": 0.027355,
     "end_time": "2023-05-24T12:28:06.583351",
     "exception": false,
     "start_time": "2023-05-24T12:28:06.555996",
     "status": "completed"
    },
    "tags": []
   },
   "outputs": [
    {
     "data": {
      "text/html": [
       "<div>\n",
       "<style scoped>\n",
       "    .dataframe tbody tr th:only-of-type {\n",
       "        vertical-align: middle;\n",
       "    }\n",
       "\n",
       "    .dataframe tbody tr th {\n",
       "        vertical-align: top;\n",
       "    }\n",
       "\n",
       "    .dataframe thead th {\n",
       "        text-align: right;\n",
       "    }\n",
       "</style>\n",
       "<table border=\"1\" class=\"dataframe\">\n",
       "  <thead>\n",
       "    <tr style=\"text-align: right;\">\n",
       "      <th></th>\n",
       "      <th>0</th>\n",
       "      <th>1</th>\n",
       "      <th>2</th>\n",
       "      <th>3</th>\n",
       "      <th>4</th>\n",
       "      <th>5</th>\n",
       "      <th>6</th>\n",
       "      <th>7</th>\n",
       "      <th>8</th>\n",
       "      <th>9</th>\n",
       "      <th>...</th>\n",
       "      <th>134</th>\n",
       "      <th>135</th>\n",
       "      <th>136</th>\n",
       "      <th>137</th>\n",
       "      <th>138</th>\n",
       "      <th>139</th>\n",
       "      <th>140</th>\n",
       "      <th>141</th>\n",
       "      <th>142</th>\n",
       "      <th>143</th>\n",
       "    </tr>\n",
       "  </thead>\n",
       "  <tbody>\n",
       "    <tr>\n",
       "      <th>0</th>\n",
       "      <td>1</td>\n",
       "      <td>1</td>\n",
       "      <td>1</td>\n",
       "      <td>1</td>\n",
       "      <td>1</td>\n",
       "      <td>1</td>\n",
       "      <td>1</td>\n",
       "      <td>1</td>\n",
       "      <td>2</td>\n",
       "      <td>2</td>\n",
       "      <td>...</td>\n",
       "      <td>14</td>\n",
       "      <td>14</td>\n",
       "      <td>14</td>\n",
       "      <td>14</td>\n",
       "      <td>14</td>\n",
       "      <td>14</td>\n",
       "      <td>14</td>\n",
       "      <td>14</td>\n",
       "      <td>14</td>\n",
       "      <td>14</td>\n",
       "    </tr>\n",
       "  </tbody>\n",
       "</table>\n",
       "<p>1 rows × 144 columns</p>\n",
       "</div>"
      ],
      "text/plain": [
       "   0    1    2    3    4    5    6    7    8    9    ...  134  135  136  137  \\\n",
       "0    1    1    1    1    1    1    1    1    2    2  ...   14   14   14   14   \n",
       "\n",
       "   138  139  140  141  142  143  \n",
       "0   14   14   14   14   14   14  \n",
       "\n",
       "[1 rows x 144 columns]"
      ]
     },
     "execution_count": 4,
     "metadata": {},
     "output_type": "execute_result"
    }
   ],
   "source": [
    "y_train.head()"
   ]
  },
  {
   "cell_type": "markdown",
   "id": "d7d6cae8",
   "metadata": {
    "papermill": {
     "duration": 0.006748,
     "end_time": "2023-05-24T12:28:06.597254",
     "exception": false,
     "start_time": "2023-05-24T12:28:06.590506",
     "status": "completed"
    },
    "tags": []
   },
   "source": [
    " ## Part 2: Cluster analysis <a class=\"anchor\"  id=\"section2\"></a>"
   ]
  },
  {
   "cell_type": "markdown",
   "id": "f94a0138",
   "metadata": {
    "papermill": {
     "duration": 0.007147,
     "end_time": "2023-05-24T12:28:06.612622",
     "exception": false,
     "start_time": "2023-05-24T12:28:06.605475",
     "status": "completed"
    },
    "tags": []
   },
   "source": [
    "Use the sklearn.cluster module to perform clustering analysis on the dataset. In particular, repeat the analysis proposed in section 14.3.8 of the book (Hastie et al., 2009)\n",
    "*  Preprocess data, if needed (e.g., if there are missing values then remove the related columns and rows)\n",
    "*  Start using K-means and then test some other clustering algorithms at your choice\n",
    "*  Cluster the samples (i.e., columns). Each sample has a label (tumor type)\n",
    "*  Do not use the labels in the learning phase but examine them posthoc to interpret the clusters\n",
    "*  Run k-means with K from 2 to 10 and compare the clusterings in terms of within-sum of\n",
    "* squares\n",
    "*  Show the chart of the performance depending on K\n",
    "*  Select some K and analyze the clusters producing tables such as those displayed in the book"
   ]
  },
  {
   "cell_type": "markdown",
   "id": "00765250",
   "metadata": {
    "papermill": {
     "duration": 0.007022,
     "end_time": "2023-05-24T12:28:06.627188",
     "exception": false,
     "start_time": "2023-05-24T12:28:06.620166",
     "status": "completed"
    },
    "tags": []
   },
   "source": []
  },
  {
   "cell_type": "markdown",
   "id": "c4305445",
   "metadata": {
    "papermill": {
     "duration": 0.006884,
     "end_time": "2023-05-24T12:28:06.641164",
     "exception": false,
     "start_time": "2023-05-24T12:28:06.634280",
     "status": "completed"
    },
    "tags": []
   },
   "source": [
    "### Prepocess data <a class=\"anchor\"  id=\"subsection1\"></a>"
   ]
  },
  {
   "cell_type": "code",
   "execution_count": 5,
   "id": "d43c7c31",
   "metadata": {
    "execution": {
     "iopub.execute_input": "2023-05-24T12:28:06.657564Z",
     "iopub.status.busy": "2023-05-24T12:28:06.657168Z",
     "iopub.status.idle": "2023-05-24T12:28:45.239351Z",
     "shell.execute_reply": "2023-05-24T12:28:45.238213Z"
    },
    "papermill": {
     "duration": 38.601745,
     "end_time": "2023-05-24T12:28:45.250427",
     "exception": false,
     "start_time": "2023-05-24T12:28:06.648682",
     "status": "completed"
    },
    "tags": []
   },
   "outputs": [
    {
     "data": {
      "text/html": [
       "<div>\n",
       "<style scoped>\n",
       "    .dataframe tbody tr th:only-of-type {\n",
       "        vertical-align: middle;\n",
       "    }\n",
       "\n",
       "    .dataframe tbody tr th {\n",
       "        vertical-align: top;\n",
       "    }\n",
       "\n",
       "    .dataframe thead th {\n",
       "        text-align: right;\n",
       "    }\n",
       "</style>\n",
       "<table border=\"1\" class=\"dataframe\">\n",
       "  <thead>\n",
       "    <tr style=\"text-align: right;\">\n",
       "      <th></th>\n",
       "      <th>0</th>\n",
       "      <th>1</th>\n",
       "      <th>2</th>\n",
       "      <th>3</th>\n",
       "      <th>4</th>\n",
       "      <th>5</th>\n",
       "      <th>6</th>\n",
       "      <th>7</th>\n",
       "      <th>8</th>\n",
       "      <th>9</th>\n",
       "      <th>...</th>\n",
       "      <th>16053</th>\n",
       "      <th>16054</th>\n",
       "      <th>16055</th>\n",
       "      <th>16056</th>\n",
       "      <th>16057</th>\n",
       "      <th>16058</th>\n",
       "      <th>16059</th>\n",
       "      <th>16060</th>\n",
       "      <th>16061</th>\n",
       "      <th>16062</th>\n",
       "    </tr>\n",
       "  </thead>\n",
       "  <tbody>\n",
       "    <tr>\n",
       "      <th>count</th>\n",
       "      <td>144.000000</td>\n",
       "      <td>144.000000</td>\n",
       "      <td>144.000000</td>\n",
       "      <td>144.000000</td>\n",
       "      <td>144.000000</td>\n",
       "      <td>144.000000</td>\n",
       "      <td>144.000000</td>\n",
       "      <td>144.000000</td>\n",
       "      <td>144.000000</td>\n",
       "      <td>144.000000</td>\n",
       "      <td>...</td>\n",
       "      <td>144.000000</td>\n",
       "      <td>144.000000</td>\n",
       "      <td>144.000000</td>\n",
       "      <td>144.000000</td>\n",
       "      <td>144.000000</td>\n",
       "      <td>144.000000</td>\n",
       "      <td>144.000000</td>\n",
       "      <td>144.000000</td>\n",
       "      <td>144.000000</td>\n",
       "      <td>144.000000</td>\n",
       "    </tr>\n",
       "    <tr>\n",
       "      <th>mean</th>\n",
       "      <td>-63.645833</td>\n",
       "      <td>-257.881250</td>\n",
       "      <td>-215.511806</td>\n",
       "      <td>26.672917</td>\n",
       "      <td>-224.707639</td>\n",
       "      <td>-279.172917</td>\n",
       "      <td>-113.795139</td>\n",
       "      <td>-119.026389</td>\n",
       "      <td>-11.290278</td>\n",
       "      <td>68.313194</td>\n",
       "      <td>...</td>\n",
       "      <td>-123.929861</td>\n",
       "      <td>1271.216667</td>\n",
       "      <td>89.045833</td>\n",
       "      <td>538.594444</td>\n",
       "      <td>-3.494444</td>\n",
       "      <td>147.833333</td>\n",
       "      <td>-69.670139</td>\n",
       "      <td>21.419444</td>\n",
       "      <td>-1257.648611</td>\n",
       "      <td>-103.130556</td>\n",
       "    </tr>\n",
       "    <tr>\n",
       "      <th>std</th>\n",
       "      <td>65.367864</td>\n",
       "      <td>223.797476</td>\n",
       "      <td>296.444985</td>\n",
       "      <td>115.764797</td>\n",
       "      <td>164.191345</td>\n",
       "      <td>161.841157</td>\n",
       "      <td>335.428306</td>\n",
       "      <td>86.485875</td>\n",
       "      <td>67.216980</td>\n",
       "      <td>173.884559</td>\n",
       "      <td>...</td>\n",
       "      <td>104.513201</td>\n",
       "      <td>832.840702</td>\n",
       "      <td>112.680539</td>\n",
       "      <td>534.374008</td>\n",
       "      <td>104.447686</td>\n",
       "      <td>276.576271</td>\n",
       "      <td>101.915246</td>\n",
       "      <td>220.260558</td>\n",
       "      <td>698.918118</td>\n",
       "      <td>107.657973</td>\n",
       "    </tr>\n",
       "    <tr>\n",
       "      <th>min</th>\n",
       "      <td>-245.000000</td>\n",
       "      <td>-1595.000000</td>\n",
       "      <td>-2085.000000</td>\n",
       "      <td>-334.000000</td>\n",
       "      <td>-989.000000</td>\n",
       "      <td>-809.000000</td>\n",
       "      <td>-1621.000000</td>\n",
       "      <td>-347.000000</td>\n",
       "      <td>-413.000000</td>\n",
       "      <td>-322.000000</td>\n",
       "      <td>...</td>\n",
       "      <td>-419.000000</td>\n",
       "      <td>-67.000000</td>\n",
       "      <td>-136.000000</td>\n",
       "      <td>-49.000000</td>\n",
       "      <td>-330.000000</td>\n",
       "      <td>-311.000000</td>\n",
       "      <td>-521.000000</td>\n",
       "      <td>-361.000000</td>\n",
       "      <td>-3567.000000</td>\n",
       "      <td>-620.000000</td>\n",
       "    </tr>\n",
       "    <tr>\n",
       "      <th>25%</th>\n",
       "      <td>-100.250000</td>\n",
       "      <td>-312.750000</td>\n",
       "      <td>-281.750000</td>\n",
       "      <td>-26.500000</td>\n",
       "      <td>-282.750000</td>\n",
       "      <td>-381.000000</td>\n",
       "      <td>-263.750000</td>\n",
       "      <td>-176.000000</td>\n",
       "      <td>-33.250000</td>\n",
       "      <td>-16.250000</td>\n",
       "      <td>...</td>\n",
       "      <td>-183.000000</td>\n",
       "      <td>515.750000</td>\n",
       "      <td>20.250000</td>\n",
       "      <td>162.500000</td>\n",
       "      <td>-44.000000</td>\n",
       "      <td>6.750000</td>\n",
       "      <td>-107.250000</td>\n",
       "      <td>-77.250000</td>\n",
       "      <td>-1675.500000</td>\n",
       "      <td>-142.250000</td>\n",
       "    </tr>\n",
       "    <tr>\n",
       "      <th>50%</th>\n",
       "      <td>-55.500000</td>\n",
       "      <td>-207.500000</td>\n",
       "      <td>-119.500000</td>\n",
       "      <td>14.500000</td>\n",
       "      <td>-186.500000</td>\n",
       "      <td>-266.000000</td>\n",
       "      <td>-76.000000</td>\n",
       "      <td>-96.000000</td>\n",
       "      <td>-7.000000</td>\n",
       "      <td>41.000000</td>\n",
       "      <td>...</td>\n",
       "      <td>-112.000000</td>\n",
       "      <td>1216.000000</td>\n",
       "      <td>70.300000</td>\n",
       "      <td>446.500000</td>\n",
       "      <td>-6.000000</td>\n",
       "      <td>85.500000</td>\n",
       "      <td>-41.500000</td>\n",
       "      <td>-11.000000</td>\n",
       "      <td>-1156.000000</td>\n",
       "      <td>-66.500000</td>\n",
       "    </tr>\n",
       "    <tr>\n",
       "      <th>75%</th>\n",
       "      <td>-24.750000</td>\n",
       "      <td>-108.750000</td>\n",
       "      <td>-47.750000</td>\n",
       "      <td>73.000000</td>\n",
       "      <td>-107.000000</td>\n",
       "      <td>-133.000000</td>\n",
       "      <td>85.500000</td>\n",
       "      <td>-64.000000</td>\n",
       "      <td>21.000000</td>\n",
       "      <td>115.250000</td>\n",
       "      <td>...</td>\n",
       "      <td>-46.750000</td>\n",
       "      <td>2049.250000</td>\n",
       "      <td>137.500000</td>\n",
       "      <td>682.400000</td>\n",
       "      <td>27.250000</td>\n",
       "      <td>210.500000</td>\n",
       "      <td>-9.000000</td>\n",
       "      <td>42.000000</td>\n",
       "      <td>-774.000000</td>\n",
       "      <td>-35.500000</td>\n",
       "    </tr>\n",
       "    <tr>\n",
       "      <th>max</th>\n",
       "      <td>274.000000</td>\n",
       "      <td>28.000000</td>\n",
       "      <td>63.000000</td>\n",
       "      <td>456.000000</td>\n",
       "      <td>-10.000000</td>\n",
       "      <td>-30.000000</td>\n",
       "      <td>655.000000</td>\n",
       "      <td>196.000000</td>\n",
       "      <td>121.000000</td>\n",
       "      <td>889.000000</td>\n",
       "      <td>...</td>\n",
       "      <td>270.000000</td>\n",
       "      <td>3283.000000</td>\n",
       "      <td>751.000000</td>\n",
       "      <td>3712.000000</td>\n",
       "      <td>422.000000</td>\n",
       "      <td>1936.000000</td>\n",
       "      <td>127.000000</td>\n",
       "      <td>1754.000000</td>\n",
       "      <td>-152.000000</td>\n",
       "      <td>60.000000</td>\n",
       "    </tr>\n",
       "  </tbody>\n",
       "</table>\n",
       "<p>8 rows × 16063 columns</p>\n",
       "</div>"
      ],
      "text/plain": [
       "            0            1            2           3           4      \\\n",
       "count  144.000000   144.000000   144.000000  144.000000  144.000000   \n",
       "mean   -63.645833  -257.881250  -215.511806   26.672917 -224.707639   \n",
       "std     65.367864   223.797476   296.444985  115.764797  164.191345   \n",
       "min   -245.000000 -1595.000000 -2085.000000 -334.000000 -989.000000   \n",
       "25%   -100.250000  -312.750000  -281.750000  -26.500000 -282.750000   \n",
       "50%    -55.500000  -207.500000  -119.500000   14.500000 -186.500000   \n",
       "75%    -24.750000  -108.750000   -47.750000   73.000000 -107.000000   \n",
       "max    274.000000    28.000000    63.000000  456.000000  -10.000000   \n",
       "\n",
       "            5            6           7           8           9      ...  \\\n",
       "count  144.000000   144.000000  144.000000  144.000000  144.000000  ...   \n",
       "mean  -279.172917  -113.795139 -119.026389  -11.290278   68.313194  ...   \n",
       "std    161.841157   335.428306   86.485875   67.216980  173.884559  ...   \n",
       "min   -809.000000 -1621.000000 -347.000000 -413.000000 -322.000000  ...   \n",
       "25%   -381.000000  -263.750000 -176.000000  -33.250000  -16.250000  ...   \n",
       "50%   -266.000000   -76.000000  -96.000000   -7.000000   41.000000  ...   \n",
       "75%   -133.000000    85.500000  -64.000000   21.000000  115.250000  ...   \n",
       "max    -30.000000   655.000000  196.000000  121.000000  889.000000  ...   \n",
       "\n",
       "            16053        16054       16055        16056       16057  \\\n",
       "count  144.000000   144.000000  144.000000   144.000000  144.000000   \n",
       "mean  -123.929861  1271.216667   89.045833   538.594444   -3.494444   \n",
       "std    104.513201   832.840702  112.680539   534.374008  104.447686   \n",
       "min   -419.000000   -67.000000 -136.000000   -49.000000 -330.000000   \n",
       "25%   -183.000000   515.750000   20.250000   162.500000  -44.000000   \n",
       "50%   -112.000000  1216.000000   70.300000   446.500000   -6.000000   \n",
       "75%    -46.750000  2049.250000  137.500000   682.400000   27.250000   \n",
       "max    270.000000  3283.000000  751.000000  3712.000000  422.000000   \n",
       "\n",
       "             16058       16059        16060        16061       16062  \n",
       "count   144.000000  144.000000   144.000000   144.000000  144.000000  \n",
       "mean    147.833333  -69.670139    21.419444 -1257.648611 -103.130556  \n",
       "std     276.576271  101.915246   220.260558   698.918118  107.657973  \n",
       "min    -311.000000 -521.000000  -361.000000 -3567.000000 -620.000000  \n",
       "25%       6.750000 -107.250000   -77.250000 -1675.500000 -142.250000  \n",
       "50%      85.500000  -41.500000   -11.000000 -1156.000000  -66.500000  \n",
       "75%     210.500000   -9.000000    42.000000  -774.000000  -35.500000  \n",
       "max    1936.000000  127.000000  1754.000000  -152.000000   60.000000  \n",
       "\n",
       "[8 rows x 16063 columns]"
      ]
     },
     "execution_count": 5,
     "metadata": {},
     "output_type": "execute_result"
    }
   ],
   "source": [
    "x_train.T.describe()"
   ]
  },
  {
   "cell_type": "code",
   "execution_count": 6,
   "id": "59cb9ae6",
   "metadata": {
    "execution": {
     "iopub.execute_input": "2023-05-24T12:28:45.267685Z",
     "iopub.status.busy": "2023-05-24T12:28:45.267279Z",
     "iopub.status.idle": "2023-05-24T12:28:45.288284Z",
     "shell.execute_reply": "2023-05-24T12:28:45.287147Z"
    },
    "papermill": {
     "duration": 0.032492,
     "end_time": "2023-05-24T12:28:45.290904",
     "exception": false,
     "start_time": "2023-05-24T12:28:45.258412",
     "status": "completed"
    },
    "tags": []
   },
   "outputs": [
    {
     "name": "stdout",
     "output_type": "stream",
     "text": [
      "<class 'pandas.core.frame.DataFrame'>\n",
      "RangeIndex: 16063 entries, 0 to 16062\n",
      "Columns: 144 entries, 0 to 143\n",
      "dtypes: float64(1), int64(143)\n",
      "memory usage: 17.6 MB\n"
     ]
    }
   ],
   "source": [
    "# The overview information of x_train\n",
    "x_train.info()"
   ]
  },
  {
   "cell_type": "code",
   "execution_count": 7,
   "id": "9e173a62",
   "metadata": {
    "execution": {
     "iopub.execute_input": "2023-05-24T12:28:45.308252Z",
     "iopub.status.busy": "2023-05-24T12:28:45.307892Z",
     "iopub.status.idle": "2023-05-24T12:28:45.324315Z",
     "shell.execute_reply": "2023-05-24T12:28:45.323250Z"
    },
    "papermill": {
     "duration": 0.028073,
     "end_time": "2023-05-24T12:28:45.326631",
     "exception": false,
     "start_time": "2023-05-24T12:28:45.298558",
     "status": "completed"
    },
    "tags": []
   },
   "outputs": [
    {
     "name": "stdout",
     "output_type": "stream",
     "text": [
      "<class 'pandas.core.frame.DataFrame'>\n",
      "RangeIndex: 1 entries, 0 to 0\n",
      "Columns: 144 entries, 0 to 143\n",
      "dtypes: int64(144)\n",
      "memory usage: 1.2 KB\n"
     ]
    }
   ],
   "source": [
    "y_train.info()"
   ]
  },
  {
   "cell_type": "markdown",
   "id": "20c678f4",
   "metadata": {
    "papermill": {
     "duration": 0.007459,
     "end_time": "2023-05-24T12:28:45.342107",
     "exception": false,
     "start_time": "2023-05-24T12:28:45.334648",
     "status": "completed"
    },
    "tags": []
   },
   "source": []
  },
  {
   "cell_type": "code",
   "execution_count": 8,
   "id": "07dccf4b",
   "metadata": {
    "execution": {
     "iopub.execute_input": "2023-05-24T12:28:45.359531Z",
     "iopub.status.busy": "2023-05-24T12:28:45.359159Z",
     "iopub.status.idle": "2023-05-24T12:28:45.371049Z",
     "shell.execute_reply": "2023-05-24T12:28:45.370066Z"
    },
    "papermill": {
     "duration": 0.023343,
     "end_time": "2023-05-24T12:28:45.373183",
     "exception": false,
     "start_time": "2023-05-24T12:28:45.349840",
     "status": "completed"
    },
    "tags": []
   },
   "outputs": [
    {
     "data": {
      "text/plain": [
       "[0, 0]"
      ]
     },
     "execution_count": 8,
     "metadata": {},
     "output_type": "execute_result"
    }
   ],
   "source": [
    "# Check the null values number of x_train, y_train\n",
    "[sum(x_train.isnull().sum() > 1),sum(y_train.isnull().sum() > 1)]\n"
   ]
  },
  {
   "cell_type": "markdown",
   "id": "346fe73e",
   "metadata": {
    "papermill": {
     "duration": 0.00783,
     "end_time": "2023-05-24T12:28:45.389115",
     "exception": false,
     "start_time": "2023-05-24T12:28:45.381285",
     "status": "completed"
    },
    "tags": []
   },
   "source": [
    "### Start using K-means and then test some other clustering algorithms at your choice <a class=\"anchor\"  id=\"subsection2\"></a>"
   ]
  },
  {
   "cell_type": "markdown",
   "id": "5e7d0012",
   "metadata": {
    "papermill": {
     "duration": 0.007791,
     "end_time": "2023-05-24T12:28:45.404986",
     "exception": false,
     "start_time": "2023-05-24T12:28:45.397195",
     "status": "completed"
    },
    "tags": []
   },
   "source": []
  }
 ],
 "metadata": {
  "kernelspec": {
   "display_name": "Python 3",
   "language": "python",
   "name": "python3"
  },
  "language_info": {
   "codemirror_mode": {
    "name": "ipython",
    "version": 3
   },
   "file_extension": ".py",
   "mimetype": "text/x-python",
   "name": "python",
   "nbconvert_exporter": "python",
   "pygments_lexer": "ipython3",
   "version": "3.10.10"
  },
  "papermill": {
   "default_parameters": {},
   "duration": 52.407607,
   "end_time": "2023-05-24T12:28:46.234625",
   "environment_variables": {},
   "exception": null,
   "input_path": "__notebook__.ipynb",
   "output_path": "__notebook__.ipynb",
   "parameters": {},
   "start_time": "2023-05-24T12:27:53.827018",
   "version": "2.4.0"
  }
 },
 "nbformat": 4,
 "nbformat_minor": 5
}
